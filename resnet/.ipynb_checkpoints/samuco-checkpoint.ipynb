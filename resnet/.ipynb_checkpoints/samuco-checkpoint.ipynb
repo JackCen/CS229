{
 "cells": [
  {
   "cell_type": "markdown",
   "metadata": {},
   "source": [
    "# note\n",
    "__[This](https://github.com/BVLC/caffe/blob/master/examples/02-fine-tuning.ipynb) is the original notebook where the following code was adopted from__"
   ]
  },
  {
   "cell_type": "markdown",
   "metadata": {},
   "source": [
    "# some set up"
   ]
  },
  {
   "cell_type": "markdown",
   "metadata": {},
   "source": [
    "### import the required libraries"
   ]
  },
  {
   "cell_type": "code",
   "execution_count": 106,
   "metadata": {
    "collapsed": false
   },
   "outputs": [
    {
     "name": "stdout",
     "output_type": "stream",
     "text": [
      "Using \n",
      "GPU configured\n"
     ]
    }
   ],
   "source": [
    "caffe_root = '/Users/samuco/Downloads/caffe-opencl/'\n",
    "data_root = '/Users/samuco/Downloads/caffe-opencl/cs229/data/'\n",
    "model_dir = '/Users/samuco/Dropbox/Users/Samuco/[3] University/[1] Stanford/[1] Documents/[5] Autumn/CS229/CS229/resnet'\n",
    "\n",
    "resumeIteration = True\n",
    "restoreWeights = data_root + \"modelsgooglenet_iter_300.caffemodel\"\n",
    "restoreState = data_root + \"modelsgooglenet_iter_300.solverstate\"\n",
    "\n",
    "# Defines\n",
    "VGG16 = 'vgg16'\n",
    "RESNET_50 = 'resnet50'\n",
    "RESNET_101 = 'resnet101'\n",
    "RESNET_152 = 'resnet152'\n",
    "ALEXNET = 'alexnet' #not implemented here\n",
    "GOOGLENET = 'googlenet'\n",
    "INCEPTION = 'inception'\n",
    "\n",
    "# Which model to train/test\n",
    "input_model = VGG16\n",
    "\n",
    "# Imports\n",
    "import os\n",
    "input_proto = ''\n",
    "if input_model == RESNET_50:\n",
    "    input_proto = os.path.join(model_dir, 'ResNet-50-deploy.prototxt')\n",
    "elif input_model == RESNET_101:\n",
    "    input_proto = os.path.join(model_dir, 'ResNet-101-deploy.prototxt')\n",
    "elif input_model == RESNET_152:\n",
    "    input_proto = os.path.join(model_dir, 'ResNet-152-deploy.prototxt')\n",
    "elif input_model == GOOGLENET:\n",
    "    input_proto = os.path.join(model_dir, 'GoogleNet.prototxt')\n",
    "elif input_model == INCEPTION:\n",
    "    input_proto = os.path.join(model_dir, 'inception', 'deploy.prototxt')\n",
    "print \"Using\", input_proto\n",
    "\n",
    "# Setup\n",
    "import sys\n",
    "sys.path.insert(0, caffe_root + 'python')\n",
    "import caffe\n",
    "\n",
    "caffe.set_mode_gpu()\n",
    "caffe.set_device(2)\n",
    "print(\"GPU configured\")\n",
    "\n",
    "import numpy as np\n",
    "from pylab import *\n",
    "%matplotlib inline\n",
    "import tempfile"
   ]
  },
  {
   "cell_type": "markdown",
   "metadata": {},
   "source": [
    "### load pretrained weights, labels, and mean image"
   ]
  },
  {
   "cell_type": "code",
   "execution_count": 107,
   "metadata": {
    "collapsed": false
   },
   "outputs": [
    {
     "data": {
      "application/javascript": [
       "var kernel = Jupyter.notebook.kernel; \n",
       "var command = [\"notebookPath = \",\n",
       "               \"'\", window.document.body.dataset.notebookPath, \"'\" ].join('')\n",
       "//alert(command)\n",
       "kernel.execute(command)\n",
       "var command = [\"notebookName = \",\n",
       "               \"'\", window.document.body.dataset.notebookName, \"'\" ].join('')\n",
       "//alert(command)\n",
       "kernel.execute(command)"
      ],
      "text/plain": [
       "<IPython.core.display.Javascript object>"
      ]
     },
     "metadata": {},
     "output_type": "display_data"
    }
   ],
   "source": [
    "%%javascript \n",
    "var kernel = Jupyter.notebook.kernel; \n",
    "var command = [\"notebookPath = \",\n",
    "               \"'\", window.document.body.dataset.notebookPath, \"'\" ].join('')\n",
    "//alert(command)\n",
    "kernel.execute(command)\n",
    "var command = [\"notebookName = \",\n",
    "               \"'\", window.document.body.dataset.notebookName, \"'\" ].join('')\n",
    "//alert(command)\n",
    "kernel.execute(command)"
   ]
  },
  {
   "cell_type": "code",
   "execution_count": null,
   "metadata": {
    "collapsed": false,
    "scrolled": false
   },
   "outputs": [],
   "source": []
  },
  {
   "cell_type": "code",
   "execution_count": 108,
   "metadata": {
    "collapsed": false
   },
   "outputs": [
    {
     "name": "stdout",
     "output_type": "stream",
     "text": [
      "/Users/samuco/Dropbox/Users/Samuco/[3] University/[1] Stanford/[1] Documents/[5] Autumn/CS229/CS229/resnet\n",
      "Using  vgg16\n",
      "...0%, 4 MB, 1707 KB/s, 2 seconds passed^CTraceback (most recent call last):\n",
      "  File \"scripts/download_model_binary.py\", line 73, in <module>\n",
      "    frontmatter['caffemodel_url'], model_filename, reporthook)\n",
      "  File \"/Users/samuco/anaconda/lib/python2.7/urllib.py\", line 98, in urlretrieve\n",
      "    return opener.retrieve(url, filename, reporthook, data)\n",
      "  File \"/Users/samuco/anaconda/lib/python2.7/urllib.py\", line 273, in retrieve\n",
      "    block = fp.read(bs)\n",
      "  File \"/Users/samuco/anaconda/lib/python2.7/socket.py\", line 384, in read\n",
      "    data = self._sock.recv(left)\n",
      "KeyboardInterrupt\n",
      "\n"
     ]
    }
   ],
   "source": [
    "# This downloads the ilsvrc auxiliary data (mean file, etc),\n",
    "import os\n",
    "from os.path import expanduser\n",
    "home = expanduser(\"~\")\n",
    "\n",
    "os.chdir(caffe_root)  # run scripts from caffe root\n",
    "#!data/ilsvrc12/get_ilsvrc_aux.sh\n",
    "#dirn = os.path.abspath(os.path.join(home, notebookPath, \"..\"))\n",
    "dirn = model_dir\n",
    "print(dirn)\n",
    "os.chdir(dirn)  # run scripts from caffe root\n",
    "\n",
    "print \"Using \", input_model\n",
    "if input_model == VGG16:\n",
    "    !scripts/download_model_binary.py ./\n",
    "elif input_model == GOOGLENET:\n",
    "    os.chdir(caffe_root + \"models/bvlc_googlenet\")  # run scripts from caffe root\n",
    "    !{caffe_root}/scripts/download_model_binary.py ./\n",
    "elif input_model == ALEXNET:\n",
    "    os.chdir(caffe_root + \"models/bvlc_alexnet\")  # run scripts from caffe root\n",
    "    !{caffe_root}/scripts/download_model_binary.py ./\n",
    "elif input_model == INCEPTION:\n",
    "    os.chdir(os.path.join(model_dir, 'inception'))  # run scripts from caffe root\n",
    "    !{caffe_root}/scripts/download_model_binary.py ./\n",
    "elif input_model == RESNET_50 or input_model ==  RESNET_101 or input_model == RESNET_101:\n",
    "    print(\"You need to manually download the ResNet models from https://onedrive.live.com/?authkey=%21AAFW2-FVoxeVRck&id=4006CBB8476FF777%2117887&cid=4006CBB8476FF777\")\n",
    "os.chdir(dirn)  # run scripts from caffe root"
   ]
  },
  {
   "cell_type": "code",
   "execution_count": 109,
   "metadata": {
    "collapsed": false
   },
   "outputs": [
    {
     "name": "stdout",
     "output_type": "stream",
     "text": [
      "/Users/samuco/Dropbox/Users/Samuco/[3] University/[1] Stanford/[1] Documents/[5] Autumn/CS229/CS229/resnet/vgg16_reference_caffenet.caffemodel\n"
     ]
    }
   ],
   "source": [
    "# Define weights, the path to the ImageNet pretrained weights we just downloaded, and make sure it exists.\n",
    "import os\n",
    "if input_model == VGG16:\n",
    "    weights = dirn + '/vgg16_reference_caffenet.caffemodel'\n",
    "elif input_model == RESNET_50:\n",
    "    weights = dirn + '/ResNet-50-model.caffemodel'\n",
    "elif input_model == RESNET_101:\n",
    "    weights = dirn + '/ResNet-101-model.caffemodel'\n",
    "elif input_model == RESNET_152:\n",
    "    weights = dirn + '/ResNet-152-model.caffemodel'\n",
    "elif input_model == GOOGLENET:\n",
    "    weights = caffe_root + 'models/bvlc_googlenet/bvlc_googlenet.caffemodel'\n",
    "elif input_model == ALEXNET:\n",
    "    weights = caffe_root + 'models/bvlc_alexnet/bvlc_alexnet.caffemodel'\n",
    "elif input_model == INCEPTION:\n",
    "    weights = dirn + 'inception/Inception21k.caffemodel'\n",
    "else:\n",
    "    print \"Invalid model \" + input_model\n",
    "print(weights)\n",
    "assert os.path.exists(weights)"
   ]
  },
  {
   "cell_type": "markdown",
   "metadata": {},
   "source": [
    "### load StateFarm data"
   ]
  },
  {
   "cell_type": "code",
   "execution_count": 110,
   "metadata": {
    "collapsed": false
   },
   "outputs": [
    {
     "name": "stdout",
     "output_type": "stream",
     "text": [
      "dataset is already exists\n"
     ]
    }
   ],
   "source": [
    "# download StateFarm data\n",
    "# Make sure you have read the README file under data directory\n",
    "import os\n",
    "os.chdir(data_root)\n",
    "if os.path.isdir('train'):\n",
    "    print \"dataset is already exists\"\n",
    "else:\n",
    "    !bash get_datasets.sh"
   ]
  },
  {
   "cell_type": "code",
   "execution_count": 111,
   "metadata": {
    "collapsed": false
   },
   "outputs": [
    {
     "name": "stdout",
     "output_type": "stream",
     "text": [
      "Reading CSV\n",
      "Splitting Data\n",
      "Writing CSV\n",
      "Complete\n"
     ]
    }
   ],
   "source": [
    "# define train and valid sets\n",
    "import pandas as pd\n",
    "\n",
    "print(\"Reading CSV\")\n",
    "labels = pd.read_csv(data_root+'driver_imgs_list.csv')[['subject', 'img', 'classname']]\n",
    "labels['img'] = labels.apply(lambda row: data_root+'train/'+row.classname+'/'+row.img, 1)\n",
    "labels['classname'] = labels['classname'].map(lambda l: l[1])\n",
    "labels = labels.reindex(np.random.permutation(labels.index))\n",
    "\n",
    "# select a driver (say p002)\n",
    "print(\"Splitting Data\")\n",
    "isP001 = labels[\"subject\"] == \"p002\"\n",
    "isP002 = labels[\"subject\"] == \"p012\"\n",
    "isP003 = labels[\"subject\"] == \"p014\"\n",
    "test = labels[isP001 | isP002 | isP003][['img', 'classname']]\n",
    "validate = test\n",
    "train = labels[~isP001 & ~isP002 & ~isP003][['img', 'classname']]\n",
    "\n",
    "# write the csv\n",
    "print(\"Writing CSV\")\n",
    "test.to_csv(data_root+'valid.txt', sep=' ', header=False, index=False)\n",
    "train.to_csv(data_root+'train.txt', sep=' ', header=False, index=False)\n",
    "labels = None\n",
    "\n",
    "NUM_STATEFARM_LABELS = 10\n",
    "kaggle_labels = [\n",
    "    'c0: safe driving',\n",
    "    'c1: texting - right',\n",
    "    'c2: talking on the phone - right',\n",
    "    'c3: texting - left',\n",
    "    'c4: talking on the phone - left',\n",
    "    'c5: operating the radio',\n",
    "    'c6: drinking',\n",
    "    'c7: reaching behind',\n",
    "    'c8: hair and makeup',\n",
    "    'c9: talking to passenger'\n",
    "]\n",
    "print(\"Complete\")"
   ]
  },
  {
   "cell_type": "markdown",
   "metadata": {},
   "source": [
    "# some definitions"
   ]
  },
  {
   "cell_type": "markdown",
   "metadata": {},
   "source": [
    "### defining caffe net\n",
    "caffenet, a function which initializes the CaffeNet architecture (a minor variant on AlexNet), taking arguments specifying the data and number of output classes."
   ]
  },
  {
   "cell_type": "code",
   "execution_count": 123,
   "metadata": {
    "collapsed": false
   },
   "outputs": [],
   "source": [
    "from caffe import layers as L\n",
    "from caffe import params as P\n",
    "\n",
    "weight_param = dict(lr_mult=1, decay_mult=1)\n",
    "bias_param   = dict(lr_mult=2, decay_mult=0)\n",
    "learned_param = [weight_param, bias_param]\n",
    "\n",
    "frozen_param = [dict(lr_mult=0)] * 2\n",
    "\n",
    "def conv_relu(bottom, ks, nout, stride=1, pad=0, group=1,\n",
    "              param=learned_param,\n",
    "              weight_filler=dict(type='gaussian', std=0.01),\n",
    "              bias_filler=dict(type='constant', value=0.1)):\n",
    "    conv = L.Convolution(bottom, kernel_size=ks, stride=stride,\n",
    "                         num_output=nout, pad=pad, group=group,\n",
    "                         param=param, weight_filler=weight_filler,\n",
    "                         bias_filler=bias_filler)\n",
    "    return conv, L.ReLU(conv, in_place=True)\n",
    "\n",
    "def alex_conv_relu(bottom, ks, nout, stride=1, pad=0, group=1,\n",
    "              param=learned_param,\n",
    "              weight_filler=dict(type='gaussian', std=0.01),\n",
    "              bias_filler=dict(type='constant', value=0)):\n",
    "    conv = L.Convolution(bottom, kernel_size=ks, stride=stride,\n",
    "                         num_output=nout, pad=pad, group=group,\n",
    "                         param=param, weight_filler=weight_filler,\n",
    "                         bias_filler=bias_filler)\n",
    "    return conv, L.ReLU(conv, in_place=True)\n",
    "\n",
    "def fc_relu(bottom, nout, param=learned_param,\n",
    "            weight_filler=dict(type='gaussian', std=0.005),\n",
    "            bias_filler=dict(type='constant', value=0.1)):\n",
    "    fc = L.InnerProduct(bottom, num_output=nout, param=param,\n",
    "                        weight_filler=weight_filler,\n",
    "                        bias_filler=bias_filler)\n",
    "    return fc, L.ReLU(fc, in_place=True)\n",
    "\n",
    "def max_pool(bottom, ks, stride=1):\n",
    "    return L.Pooling(bottom, pool=P.Pooling.MAX, kernel_size=ks, stride=stride)\n",
    "    \n",
    "def vgg16_conv_relu(bottom, ks, nout, pad=0, group=1,\n",
    "              param=learned_param,\n",
    "              weight_filler=dict(type='xavier'),\n",
    "              bias_filler=dict(type='constant', value=0.0)):\n",
    "    conv = L.Convolution(bottom, kernel_size=ks,\n",
    "                         num_output=nout, pad=pad, weight_filler=weight_filler,\n",
    "                         bias_filler=bias_filler)\n",
    "    return conv, L.ReLU(conv, in_place=True)\n",
    "\n",
    "def vgg16_relu(bottom, nout, param=learned_param,\n",
    "            weight_filler=dict(type='xavier'),\n",
    "            bias_filler=dict(type='constant', value=0.1)):\n",
    "    fc = L.InnerProduct(bottom, num_output=nout,\n",
    "                        weight_filler=weight_filler,\n",
    "                        bias_filler=bias_filler)\n",
    "    return fc, L.ReLU(fc, in_place=True)\n",
    "\n",
    "def vgg16(data=None, label=None, train=True, num_classes=1000,\n",
    "             classifier_name='fc8', learn_all=False):\n",
    "    \"\"\"Returns a NetSpec specifying CaffeNet, following the original proto text\n",
    "       specification (./models/bvlc_reference_caffenet/train_val.prototxt).\"\"\"\n",
    "    n = caffe.NetSpec()\n",
    "    n.data = data\n",
    "    param = learned_param if learn_all else frozen_param\n",
    "    n.conv1_1, n.relu1_1 = conv_relu(n.data, ks=3, nout=64, pad=1, param=param)\n",
    "    n.conv1_2, n.relu1_2 = conv_relu(n.relu1_1, ks=3, nout=64, pad=1, param=param)\n",
    "    n.pool1 = max_pool(n.relu1_2, ks=2, stride=2)\n",
    "    n.conv2_1, n.relu2_1 = conv_relu(n.pool1, ks=3, nout=128, pad=1, param=param)\n",
    "    n.conv2_2, n.relu2_2 = conv_relu(n.relu2_1, ks=3, nout=128, pad=1, param=param)\n",
    "    n.pool2 = max_pool(n.relu2_2, ks=2, stride=2)\n",
    "    n.conv3_1, n.relu3_1 = conv_relu(n.pool2, ks=3, nout=256, pad=1, param=param)\n",
    "    n.conv3_2, n.relu3_2 = conv_relu(n.relu3_1, ks=3, nout=256, pad=1, param=param)\n",
    "    n.conv3_3, n.relu3_3 = conv_relu(n.relu3_2, ks=3, nout=256, pad=1, param=param)\n",
    "    n.pool3 = max_pool(n.relu3_3, ks=2, stride=2)\n",
    "    n.conv4_1, n.relu4_1 = conv_relu(n.pool3, ks=3, nout=512, pad=1, param=param)\n",
    "    n.conv4_2, n.relu4_2 = conv_relu(n.relu4_1, ks=3, nout=512, pad=1, param=param)\n",
    "    n.conv4_3, n.relu4_3 = conv_relu(n.relu4_2, ks=3, nout=512, pad=1, param=param)\n",
    "    n.pool4 = max_pool(n.relu4_3, ks=2, stride=2)\n",
    "    n.conv5_1, n.relu5_1 = conv_relu(n.pool4, ks=3, nout=512, pad=1, param=param)\n",
    "    n.conv5_2, n.relu5_2 = conv_relu(n.relu5_1, ks=3, nout=512, pad=1, param=param)\n",
    "    n.conv5_3, n.relu5_3 = conv_relu(n.relu5_2, ks=3, nout=512, pad=1, param=param)\n",
    "    n.pool5 = max_pool(n.relu5_3, ks=2, stride=2)\n",
    "    n.fc6, n.relu6 = fc_relu(n.pool5, nout=4096, param=param)\n",
    "    if train:\n",
    "        n.drop6 = fc7input = L.Dropout(n.relu6, dropout_param=dict(dropout_ratio=0.5), in_place=True)\n",
    "    else:\n",
    "        fc7input = n.relu6\n",
    "\n",
    "    n.fc7, n.relu7 = fc_relu(fc7input, nout=4096, param=param)\n",
    "    if train:\n",
    "        n.drop7 = fc8input = L.Dropout(n.relu7, dropout_param=dict(dropout_ratio=0.5), in_place=True)\n",
    "    else:\n",
    "        fc8input = n.relu7\n",
    "\n",
    "    # always learn fc8 (param=learned_param)\n",
    "    fc8 = L.InnerProduct(fc8input, num_output=num_classes, weight_filler=dict(type='xavier'), bias_filler=dict(type='constant', value=0.1), param=learned_param)\n",
    "    # give fc8 the name specified by argument `classifier_name`\n",
    "    n.__setattr__(classifier_name, fc8)\n",
    "    if not train:\n",
    "        n.probs = L.Softmax(fc8)\n",
    "    if label is not None:\n",
    "        n.label = label\n",
    "        n.loss = L.SoftmaxWithLoss(fc8, n.label)\n",
    "        n.acc = L.Accuracy(fc8, n.label)\n",
    "    # write the net to a temporary file and return its filename\n",
    "    with tempfile.NamedTemporaryFile(delete=False) as f:\n",
    "        f.write(str(n.to_proto()))\n",
    "        return f.name \n",
    "    \n",
    "def generic_prototext(data=None, label=None, train=True, num_classes=1000,\n",
    "             classifier_name='fc8', learn_all=False):\n",
    "    n = caffe.NetSpec()\n",
    "    n.data = data\n",
    "    n.label = label\n",
    "    \n",
    "    # give fc8 the name specified by argument `classifier_name`\n",
    "    #n.__setattr__(classifier_name, \"fc8\")\n",
    "    #if not train:\n",
    "    #    n.probs = L.Softmax(\"fc8\")\n",
    "    #if label is not None:\n",
    "    #    n.label = label\n",
    "    #    n.loss = L.SoftmaxWithLoss(\"fc8\", n.label)\n",
    "    #    n.acc = L.Accuracy(\"fc8\", n.label)\n",
    "        \n",
    "    # write the net to a temporary file and return its filename\n",
    "    with tempfile.NamedTemporaryFile(delete=False) as f:\n",
    "        f.write(str(n.to_proto()))\n",
    "        with open(input_proto, 'r') as proto:\n",
    "            f.write(str(proto.read()))\n",
    "        \n",
    "        if not train:\n",
    "            f.write(\"\"\"\n",
    "                layer {\n",
    "                  name: \"prob\"\n",
    "                  type: \"Softmax\"\n",
    "                  bottom: \"fc8_kaggle\"\n",
    "                  top: \"prob\"\n",
    "                }\n",
    "            \"\"\")\n",
    "        \n",
    "        f.write(\"\"\"\n",
    "            layer {\n",
    "              name: \"loss\"\n",
    "              type: \"SoftmaxWithLoss\"\n",
    "              bottom: \"fc8_kaggle\"\n",
    "              bottom: \"label\"\n",
    "              top: \"loss\"\n",
    "            }\n",
    "            layer {\n",
    "              name: \"acc\"\n",
    "              type: \"Accuracy\"\n",
    "              bottom: \"fc8_kaggle\"\n",
    "              bottom: \"label\"\n",
    "              top: \"acc\"\n",
    "            }\n",
    "        \"\"\")\n",
    "        \n",
    "        \n",
    "        return f.name\n",
    "    return input_proto"
   ]
  },
  {
   "cell_type": "markdown",
   "metadata": {
    "collapsed": true
   },
   "source": [
    "### define solver\n",
    "function solver to create our Caffe solvers, which are used to train the network (learn its weights)"
   ]
  },
  {
   "cell_type": "code",
   "execution_count": 113,
   "metadata": {
    "collapsed": false
   },
   "outputs": [],
   "source": [
    "from caffe.proto import caffe_pb2\n",
    "\n",
    "def solver(train_net_path, test_net_path=None, base_lr=0.001, stepsize=500, gamma=0.1):\n",
    "    s = caffe_pb2.SolverParameter()\n",
    "\n",
    "    # Specify locations of the train and (maybe) test networks.\n",
    "    s.train_net = train_net_path\n",
    "    if test_net_path is not None:\n",
    "        s.test_net.append(test_net_path)\n",
    "        s.test_interval = 1000  # Test after every 1000 training iterations.\n",
    "        s.test_iter.append(100) # Test on 100 batches each time we test.\n",
    "\n",
    "    # The number of iterations over which to average the gradient.\n",
    "    # Effectively boosts the training batch size by the given factor, without\n",
    "    # affecting memory utilization.\n",
    "    s.iter_size = 1\n",
    "    \n",
    "    s.max_iter = 100000     # # of times to update the net (training iterations)\n",
    "    \n",
    "    # Solve using the stochastic gradient descent (SGD) algorithm.\n",
    "    # Other choices include 'Adam' and 'RMSProp'.\n",
    "    s.type = 'SGD'\n",
    "\n",
    "    # Set the initial learning rate for SGD.\n",
    "    s.base_lr = base_lr\n",
    "\n",
    "    # Set `lr_policy` to define how the learning rate changes during training.\n",
    "    # Here, we 'step' the learning rate by multiplying it by a factor `gamma`\n",
    "    # every `stepsize` iterations.\n",
    "    s.lr_policy = 'step'\n",
    "    s.gamma = gamma\n",
    "    s.stepsize = stepsize\n",
    "\n",
    "    # Set other SGD hyperparameters. Setting a non-zero `momentum` takes a\n",
    "    # weighted average of the current gradient and previous gradients to make\n",
    "    # learning more stable. L2 weight decay regularizes learning, to help prevent\n",
    "    # the model from overfitting.\n",
    "    s.momentum = 0.9\n",
    "    s.weight_decay = 5e-4\n",
    "\n",
    "    # Display the current training loss and accuracy every 1000 iterations.\n",
    "    s.display = 1000\n",
    "\n",
    "    # Snapshots are files used to store networks we've trained.  Here, we'll\n",
    "    # snapshot every 10K iterations -- ten times during training.\n",
    "    s.snapshot = 100\n",
    "    s.snapshot_prefix = data_root + 'models' + input_model\n",
    "    \n",
    "    # Train on the GPU.  Using the CPU to train large networks is very slow.\n",
    "    s.solver_mode = caffe_pb2.SolverParameter.GPU\n",
    "    \n",
    "    # Write the solver to a temporary file and return its filename.\n",
    "    with tempfile.NamedTemporaryFile(delete=False) as f:\n",
    "        f.write(str(s))\n",
    "        return f.name"
   ]
  },
  {
   "cell_type": "markdown",
   "metadata": {},
   "source": [
    "### define kaggle_net\n",
    "function kaggle_net which calls caffenet on data from the StateFarm dataset.\n",
    "\n",
    "The new network will also have the CaffeNet architecture, with differences in the input and output:\n",
    "\n",
    "* the input is the Kaggle StateFarm data we downloaded, provided by an ImageData layer\n",
    "* the output is a distribution over 10 classes rather than the original 1000 ImageNet classes\n",
    "* the classification layer is renamed from fc8 to fc8_kaggle to tell Caffe not to load the original classifier (fc8) weights from the ImageNet-pretrained model"
   ]
  },
  {
   "cell_type": "code",
   "execution_count": 114,
   "metadata": {
    "collapsed": true
   },
   "outputs": [],
   "source": [
    "def kaggle_net(train=True, learn_all=True, batch_size=32):\n",
    "    source = data_root + 'train.txt' if train else 'valid.txt'\n",
    "    \n",
    "    transform_param = dict(mirror=train, crop_size=224,\n",
    "        mean_file=caffe_root + 'data/ilsvrc12/imagenet_mean.binaryproto')\n",
    "\n",
    "    kaggle_data, kaggle_label = L.ImageData(\n",
    "        transform_param=transform_param, source=source,\n",
    "        batch_size=batch_size, new_height=256, new_width=256, ntop=2)\n",
    "    \n",
    "    if input_proto != '':\n",
    "        return generic_prototext(data=kaggle_data, label=kaggle_label, train=train,\n",
    "                        num_classes=NUM_STATEFARM_LABELS,\n",
    "                        classifier_name='fc8_kaggle',\n",
    "                        learn_all=learn_all)\n",
    "    elif input_model == ALEXNET:\n",
    "        return alexnet(data=kaggle_data, label=kaggle_label, train=train,\n",
    "                        num_classes=NUM_STATEFARM_LABELS,\n",
    "                        classifier_name='fc8_kaggle',\n",
    "                        learn_all=learn_all)\n",
    "    else:\n",
    "        return vgg16(data=kaggle_data, label=kaggle_label, train=train,\n",
    "                        num_classes=NUM_STATEFARM_LABELS,\n",
    "                        classifier_name='fc8_kaggle',\n",
    "                        learn_all=learn_all)"
   ]
  },
  {
   "cell_type": "markdown",
   "metadata": {},
   "source": [
    "### define run_solver\n",
    "run_solvers, a function that takes a list of solvers and steps each one in a round robin manner, recording the accuracy and loss values each iteration. At the end, the learned weights are saved to a file."
   ]
  },
  {
   "cell_type": "code",
   "execution_count": 115,
   "metadata": {
    "collapsed": true
   },
   "outputs": [],
   "source": [
    "def run_solvers(niter, solvers, disp_interval=100):\n",
    "    \"\"\"\n",
    "    Run solvers for niter iterations,\n",
    "    returning the loss and accuracy recorded each iteration.\n",
    "    'solvers' is a list of (name, solver) tuples.\n",
    "    \"\"\"\n",
    "    blobs = ('loss', 'acc')\n",
    "    loss, acc = ({name: np.zeros(niter) for name, _ in solvers}\n",
    "                 for _ in blobs)\n",
    "    for it in range(niter):\n",
    "        for name, s in solvers:\n",
    "            s.step(1)  # run a single SGD step in Caffe\n",
    "            loss[name][it], acc[name][it] = (s.net.blobs[b].data.copy()\n",
    "                                             for b in blobs)\n",
    "        if it % disp_interval == 0 or it + 1 == niter:\n",
    "            loss_disp = '; '.join('%s: loss=%.3f, acc=%2d%%' %\n",
    "                                  (n, loss[n][it], np.round(100*acc[n][it]))\n",
    "                                  for n, _ in solvers)\n",
    "            print '%3d) %s' % (it, loss_disp)     \n",
    "    # Save the learned weights from both nets.\n",
    "    weight_dir = tempfile.mkdtemp()\n",
    "    weights = {}\n",
    "    for name, s in solvers:\n",
    "        filename = 'weights.%s.caffemodel' % name\n",
    "        weights[name] = os.path.join(weight_dir, filename)\n",
    "        s.net.save(weights[name])\n",
    "    return loss, acc, weights"
   ]
  },
  {
   "cell_type": "markdown",
   "metadata": {},
   "source": [
    "# train the model"
   ]
  },
  {
   "cell_type": "markdown",
   "metadata": {},
   "source": [
    "kaggle solver: train net initialized to the ImageNet-pretrained weights (this is done by the call to the copy_from method)"
   ]
  },
  {
   "cell_type": "code",
   "execution_count": 103,
   "metadata": {
    "collapsed": false
   },
   "outputs": [
    {
     "ename": "AttributeError",
     "evalue": "'str' object has no attribute '_to_proto'",
     "output_type": "error",
     "traceback": [
      "\u001b[0;31m---------------------------------------------------------------------------\u001b[0m",
      "\u001b[0;31mAttributeError\u001b[0m                            Traceback (most recent call last)",
      "\u001b[0;32m<ipython-input-103-50282c73200c>\u001b[0m in \u001b[0;36m<module>\u001b[0;34m()\u001b[0m\n\u001b[1;32m      7\u001b[0m \u001b[0;34m\u001b[0m\u001b[0m\n\u001b[1;32m      8\u001b[0m \u001b[0;31m# Reset kaggle_solver as before.\u001b[0m\u001b[0;34m\u001b[0m\u001b[0;34m\u001b[0m\u001b[0m\n\u001b[0;32m----> 9\u001b[0;31m \u001b[0mkaggle_solver_filename\u001b[0m \u001b[0;34m=\u001b[0m \u001b[0msolver\u001b[0m\u001b[0;34m(\u001b[0m\u001b[0mkaggle_net\u001b[0m\u001b[0;34m(\u001b[0m\u001b[0;34m)\u001b[0m\u001b[0;34m)\u001b[0m\u001b[0;34m\u001b[0m\u001b[0m\n\u001b[0m\u001b[1;32m     10\u001b[0m \u001b[0;32mprint\u001b[0m\u001b[0;34m(\u001b[0m\u001b[0mkaggle_solver_filename\u001b[0m\u001b[0;34m)\u001b[0m\u001b[0;34m\u001b[0m\u001b[0m\n",
      "\u001b[0;32m<ipython-input-101-a7eff7a2a84f>\u001b[0m in \u001b[0;36mkaggle_net\u001b[0;34m(train, learn_all, batch_size)\u001b[0m\n\u001b[1;32m     23\u001b[0m                         \u001b[0mnum_classes\u001b[0m\u001b[0;34m=\u001b[0m\u001b[0mNUM_STATEFARM_LABELS\u001b[0m\u001b[0;34m,\u001b[0m\u001b[0;34m\u001b[0m\u001b[0m\n\u001b[1;32m     24\u001b[0m                         \u001b[0mclassifier_name\u001b[0m\u001b[0;34m=\u001b[0m\u001b[0;34m'fc8_kaggle'\u001b[0m\u001b[0;34m,\u001b[0m\u001b[0;34m\u001b[0m\u001b[0m\n\u001b[0;32m---> 25\u001b[0;31m                         learn_all=learn_all)\n\u001b[0m",
      "\u001b[0;32m<ipython-input-99-2099bd55fec4>\u001b[0m in \u001b[0;36mvgg16\u001b[0;34m(data, label, train, num_classes, classifier_name, learn_all)\u001b[0m\n\u001b[1;32m    105\u001b[0m     \u001b[0;31m# write the net to a temporary file and return its filename\u001b[0m\u001b[0;34m\u001b[0m\u001b[0;34m\u001b[0m\u001b[0m\n\u001b[1;32m    106\u001b[0m     \u001b[0;32mwith\u001b[0m \u001b[0mtempfile\u001b[0m\u001b[0;34m.\u001b[0m\u001b[0mNamedTemporaryFile\u001b[0m\u001b[0;34m(\u001b[0m\u001b[0mdelete\u001b[0m\u001b[0;34m=\u001b[0m\u001b[0mFalse\u001b[0m\u001b[0;34m)\u001b[0m \u001b[0;32mas\u001b[0m \u001b[0mf\u001b[0m\u001b[0;34m:\u001b[0m\u001b[0;34m\u001b[0m\u001b[0m\n\u001b[0;32m--> 107\u001b[0;31m         \u001b[0mf\u001b[0m\u001b[0;34m.\u001b[0m\u001b[0mwrite\u001b[0m\u001b[0;34m(\u001b[0m\u001b[0mstr\u001b[0m\u001b[0;34m(\u001b[0m\u001b[0mn\u001b[0m\u001b[0;34m.\u001b[0m\u001b[0mto_proto\u001b[0m\u001b[0;34m(\u001b[0m\u001b[0;34m)\u001b[0m\u001b[0;34m)\u001b[0m\u001b[0;34m)\u001b[0m\u001b[0;34m\u001b[0m\u001b[0m\n\u001b[0m\u001b[1;32m    108\u001b[0m         \u001b[0;32mreturn\u001b[0m \u001b[0mf\u001b[0m\u001b[0;34m.\u001b[0m\u001b[0mname\u001b[0m\u001b[0;34m\u001b[0m\u001b[0m\n\u001b[1;32m    109\u001b[0m \u001b[0;34m\u001b[0m\u001b[0m\n",
      "\u001b[0;32m/Users/samuco/Downloads/caffe-opencl/python/caffe/net_spec.pyc\u001b[0m in \u001b[0;36mto_proto\u001b[0;34m(self)\u001b[0m\n\u001b[1;32m    229\u001b[0m                     \u001b[0;32mif\u001b[0m \u001b[0;34m(\u001b[0m\u001b[0mfirst\u001b[0m \u001b[0;34m==\u001b[0m \u001b[0mNone\u001b[0m\u001b[0;34m)\u001b[0m\u001b[0;34m:\u001b[0m\u001b[0;34m\u001b[0m\u001b[0m\n\u001b[1;32m    230\u001b[0m                         \u001b[0mnames\u001b[0m\u001b[0;34m[\u001b[0m\u001b[0msubtop\u001b[0m\u001b[0;34m]\u001b[0m \u001b[0;34m=\u001b[0m \u001b[0mname\u001b[0m\u001b[0;34m\u001b[0m\u001b[0m\n\u001b[0;32m--> 231\u001b[0;31m                         \u001b[0msubtop\u001b[0m\u001b[0;34m.\u001b[0m\u001b[0m_to_proto\u001b[0m\u001b[0;34m(\u001b[0m\u001b[0mlayers\u001b[0m\u001b[0;34m,\u001b[0m \u001b[0mnames\u001b[0m\u001b[0;34m,\u001b[0m \u001b[0mautonames\u001b[0m\u001b[0;34m)\u001b[0m\u001b[0;34m\u001b[0m\u001b[0m\n\u001b[0m\u001b[1;32m    232\u001b[0m                         \u001b[0mfirst\u001b[0m \u001b[0;34m=\u001b[0m \u001b[0msubtop\u001b[0m\u001b[0;34m\u001b[0m\u001b[0m\n\u001b[1;32m    233\u001b[0m                     \u001b[0;32melse\u001b[0m\u001b[0;34m:\u001b[0m\u001b[0;34m\u001b[0m\u001b[0m\n",
      "\u001b[0;31mAttributeError\u001b[0m: 'str' object has no attribute '_to_proto'"
     ]
    }
   ],
   "source": [
    "import time\n",
    "start_time = time.time()\n",
    "niter = 2500  # number of iterations to train\n",
    "# base_lr: starting learning rate = 0.001\n",
    "# learn_all: update the weights in all layers = True\n",
    "# stepsize: learning rate stepsize = 100\n",
    "\n",
    "# Reset kaggle_solver as before.\n",
    "kaggle_solver_filename = solver(kaggle_net())\n",
    "print(kaggle_solver_filename)"
   ]
  },
  {
   "cell_type": "code",
   "execution_count": null,
   "metadata": {
    "collapsed": false,
    "scrolled": true
   },
   "outputs": [
    {
     "name": "stdout",
     "output_type": "stream",
     "text": [
      "Running solvers for 2500 iterations...\n",
      "  0) pretrained: loss=2.507, acc=19%\n",
      "100) pretrained: loss=0.763, acc=72%\n",
      "200) pretrained: loss=0.297, acc=91%\n",
      "300) pretrained: loss=0.298, acc=84%\n",
      "400) pretrained: loss=0.188, acc=94%\n",
      "500) pretrained: loss=0.160, acc=97%\n",
      "600) pretrained: loss=0.212, acc=91%\n",
      "700) pretrained: loss=0.126, acc=97%\n",
      "800) pretrained: loss=0.170, acc=94%\n",
      "900) pretrained: loss=0.060, acc=100%\n",
      "1000) pretrained: loss=0.062, acc=97%\n",
      "1100) pretrained: loss=0.078, acc=97%\n",
      "1200) pretrained: loss=0.024, acc=100%\n",
      "1300) pretrained: loss=0.351, acc=94%\n",
      "1400) pretrained: loss=0.063, acc=100%\n",
      "1500) pretrained: loss=0.087, acc=97%\n",
      "1600) pretrained: loss=0.036, acc=100%\n",
      "1700) pretrained: loss=0.144, acc=94%\n",
      "1800) pretrained: loss=0.058, acc=97%\n",
      "1900) pretrained: loss=0.110, acc=94%\n",
      "2000) pretrained: loss=0.063, acc=97%\n",
      "2100) pretrained: loss=0.043, acc=100%\n",
      "2200) pretrained: loss=0.194, acc=91%\n",
      "2300) pretrained: loss=0.146, acc=94%\n",
      "2400) pretrained: loss=0.051, acc=97%\n"
     ]
    }
   ],
   "source": [
    "kaggle_solver = caffe.SGDSolver(kaggle_solver_filename)\n",
    "if resumeIteration:\n",
    "    kaggle_solver.net.copy_from(restoreWeights)\n",
    "    kaggle_solver.restore(restoreState)\n",
    "else:\n",
    "    kaggle_solver.net.copy_from(weights)\n",
    "\n",
    "print 'Running solvers for %d iterations...' % niter\n",
    "solvers = [('pretrained', kaggle_solver)]\n",
    "loss, acc, weights = run_solvers(niter, solvers)\n",
    "print 'Done.'\n",
    "\n",
    "train_loss = loss['pretrained']\n",
    "train_acc = acc['pretrained']\n",
    "kaggle_weights = weights['pretrained']\n",
    "\n",
    "# Delete solvers to save memory.\n",
    "del kaggle_solver, solvers\n",
    "\n",
    "print \"Finished training the model in %f s\" % (time.time() - start_time)"
   ]
  },
  {
   "cell_type": "markdown",
   "metadata": {},
   "source": [
    "### visualize the learning process"
   ]
  },
  {
   "cell_type": "code",
   "execution_count": 18,
   "metadata": {
    "collapsed": false
   },
   "outputs": [
    {
     "ename": "NameError",
     "evalue": "name 'train_loss' is not defined",
     "output_type": "error",
     "traceback": [
      "\u001b[0;31m---------------------------------------------------------------------------\u001b[0m",
      "\u001b[0;31mNameError\u001b[0m                                 Traceback (most recent call last)",
      "\u001b[0;32m<ipython-input-18-ccfc7c3ca079>\u001b[0m in \u001b[0;36m<module>\u001b[0;34m()\u001b[0m\n\u001b[0;32m----> 1\u001b[0;31m \u001b[0mplot\u001b[0m\u001b[0;34m(\u001b[0m\u001b[0mnp\u001b[0m\u001b[0;34m.\u001b[0m\u001b[0mvstack\u001b[0m\u001b[0;34m(\u001b[0m\u001b[0;34m[\u001b[0m\u001b[0mtrain_loss\u001b[0m\u001b[0;34m]\u001b[0m\u001b[0;34m)\u001b[0m\u001b[0;34m.\u001b[0m\u001b[0mT\u001b[0m\u001b[0;34m)\u001b[0m\u001b[0;34m\u001b[0m\u001b[0m\n\u001b[0m\u001b[1;32m      2\u001b[0m \u001b[0mxlabel\u001b[0m\u001b[0;34m(\u001b[0m\u001b[0;34m'Iteration #'\u001b[0m\u001b[0;34m)\u001b[0m\u001b[0;34m\u001b[0m\u001b[0m\n\u001b[1;32m      3\u001b[0m \u001b[0mylabel\u001b[0m\u001b[0;34m(\u001b[0m\u001b[0;34m'Training Loss'\u001b[0m\u001b[0;34m)\u001b[0m\u001b[0;34m\u001b[0m\u001b[0m\n",
      "\u001b[0;31mNameError\u001b[0m: name 'train_loss' is not defined"
     ]
    }
   ],
   "source": [
    "plot(np.vstack([train_loss]).T)\n",
    "xlabel('Iteration #')\n",
    "ylabel('Training Loss')"
   ]
  },
  {
   "cell_type": "code",
   "execution_count": 30,
   "metadata": {
    "collapsed": false
   },
   "outputs": [
    {
     "data": {
      "text/plain": [
       "<matplotlib.text.Text at 0x1288c1890>"
      ]
     },
     "execution_count": 30,
     "metadata": {},
     "output_type": "execute_result"
    },
    {
     "data": {
      "image/png": "[encoded data removed]",
      "text/plain": [
       "<matplotlib.figure.Figure at 0x1288a7e10>"
      ]
     },
     "metadata": {},
     "output_type": "display_data"
    }
   ],
   "source": [
    "plot(np.vstack([train_acc]).T)\n",
    "xlabel('Iteration #')\n",
    "ylabel('Training Accuracy')"
   ]
  },
  {
   "cell_type": "code",
   "execution_count": 116,
   "metadata": {
    "collapsed": true
   },
   "outputs": [],
   "source": [
    "def eval_kaggle_net(weights, test_iters=50):\n",
    "    test_net = caffe.Net(kaggle_net(train=False), weights, caffe.TEST)\n",
    "    accuracy = 0\n",
    "    for it in xrange(test_iters):\n",
    "        accuracy += test_net.forward()['acc']\n",
    "    accuracy /= test_iters\n",
    "    return test_net, accuracy"
   ]
  },
  {
   "cell_type": "code",
   "execution_count": 79,
   "metadata": {
    "collapsed": false
   },
   "outputs": [
    {
     "name": "stdout",
     "output_type": "stream",
     "text": [
      "Validation accuracy for 100 iterations , trained from ImageNet initialization: 68.2%\n",
      "Validation accuracy for 200 iterations , trained from ImageNet initialization: 62.3%\n",
      "Validation accuracy for 300 iterations , trained from ImageNet initialization: 85.1%\n",
      "Validation accuracy for 400 iterations , trained from ImageNet initialization: 68.9%\n",
      "Validation accuracy for 500 iterations , trained from ImageNet initialization: 77.6%\n",
      "Validation accuracy for 600 iterations , trained from ImageNet initialization: 76.4%\n",
      "Validation accuracy for 900 iterations , trained from ImageNet initialization: 76.9%\n",
      "Validation accuracy for 1200 iterations , trained from ImageNet initialization: 77.6%\n",
      "Validation accuracy for 1500 iterations , trained from ImageNet initialization: 76.9%\n",
      "Validation accuracy for 1800 iterations , trained from ImageNet initialization: 77.0%\n",
      "Validation accuracy for 2100 iterations , trained from ImageNet initialization: 77.0%\n",
      "Validation accuracy for 2400 iterations , trained from ImageNet initialization: 77.0%\n"
     ]
    }
   ],
   "source": [
    "#print kaggle_weights\n",
    "x = []\n",
    "y = []\n",
    "for weightfile in [100, 200, 300, 400, 500, 600, 900, 1200, 1500, 1800, 2100, 2400]:\n",
    "    inweight = data_root + \"modelsgooglenet_iter_\" + str(weightfile) + \".caffemodel\"\n",
    "    test_net, accuracy = eval_kaggle_net(inweight)\n",
    "    print 'Validation accuracy for ' + str(weightfile) + ' iterations , trained from ImageNet initialization: %3.1f%%' % (100*accuracy, )\n",
    "    del test_net\n",
    "    x += [weightfile]\n",
    "    y += [100*accuracy]"
   ]
  },
  {
   "cell_type": "code",
   "execution_count": 87,
   "metadata": {
    "collapsed": false
   },
   "outputs": [
    {
     "data": {
      "image/png": "[encoded data removed]",
      "text/plain": [
       "<matplotlib.figure.Figure at 0x128799fd0>"
      ]
     },
     "metadata": {},
     "output_type": "display_data"
    }
   ],
   "source": [
    "trainingplot = [72, 91, 84, 94, 97, 91, 100, 100, 97, 97, 100, 97]\n",
    "#plot(x, y)\n",
    "\n",
    "\n",
    "plt.xlabel('Iteration #')\n",
    "plt.ylabel('Accuracy')\n",
    "plt.plot(x, y)\n",
    "plt.plot(x, trainingplot)\n",
    "plt.legend(['Validation', 'Training'], loc='upper right')\n",
    "plt.show()\n"
   ]
  },
  {
   "cell_type": "code",
   "execution_count": null,
   "metadata": {
    "collapsed": true
   },
   "outputs": [],
   "source": []
  },
  {
   "cell_type": "code",
   "execution_count": 37,
   "metadata": {
    "collapsed": false
   },
   "outputs": [],
   "source": [
    "\n",
    "#test_net, accuracy = eval_kaggle_net(kaggle_weights)\n",
    "#print 'Validation accuracy, trained from ImageNet initialization: %3.1f%%' % (100*accuracy, )\n",
    "#del test_net"
   ]
  },
  {
   "cell_type": "markdown",
   "metadata": {},
   "source": [
    "# Extract Probabilities"
   ]
  },
  {
   "cell_type": "markdown",
   "metadata": {},
   "source": [
    "### define helper functions"
   ]
  },
  {
   "cell_type": "code",
   "execution_count": 125,
   "metadata": {
    "collapsed": true
   },
   "outputs": [],
   "source": [
    "def initialize_transformer(net):\n",
    "    mu = np.load(caffe_root + 'python/caffe/imagenet/ilsvrc_2012_mean.npy')\n",
    "    mu = mu.mean(1).mean(1)  # average over pixels to obtain the mean (BGR) pixel values\n",
    "\n",
    "    # create transformer for the input called 'data'\n",
    "    transformer = caffe.io.Transformer({'data': net.blobs['data'].data.shape})\n",
    "\n",
    "    transformer.set_transpose('data', (2,0,1))  # move image channels to outermost dimension\n",
    "    transformer.set_mean('data', mu)            # subtract the dataset-mean value in each channel\n",
    "    transformer.set_raw_scale('data', 255)      # rescale from [0, 1] to [0, 255]\n",
    "    transformer.set_channel_swap('data', (2,1,0))  # swap channels from RGB to BGR\n",
    "    \n",
    "    return transformer\n",
    "\n",
    "def preprocess_batch(images, transformer):\n",
    "    transformed_images = map(\n",
    "        lambda image: transformer.preprocess('data', caffe.io.load_image(image)),\n",
    "        images\n",
    "    )\n",
    "    return transformed_images\n",
    "\n",
    "def process_batch(net, images):\n",
    "    net.blobs['data'].data[...] = images\n",
    "    if input_model == GOOGLENET:\n",
    "        probs = net.forward(start='conv1/7x7_s2')['prob']\n",
    "    elif input_model == INCEPTION:\n",
    "        probs = net.forward(start='conv_conv1')['prob']\n",
    "    else:\n",
    "        probs = net.forward(start='conv1_1')['probs']\n",
    "    return probs\n",
    "\n",
    "def process_image(net, image):\n",
    "    net.blobs['data'].data[0, ...] = image\n",
    "    if input_model == GOOGLENET:\n",
    "        p = net.forward(start='conv1/7x7_s2')['prob'][0]\n",
    "    elif input_model == INCEPTION:\n",
    "        p = net.forward(start='conv_conv1')['prob'][0]\n",
    "    else:\n",
    "        p = net.forward(start='conv1_1')['probs'][0]\n",
    "    return p\n",
    "\n",
    "def write_to_file(f_name, probs, images_name):\n",
    "    with open(data_root + f_name, \"a\") as f:\n",
    "        for i in xrange(len(probs)):\n",
    "            f.write(images_name[i][23:])\n",
    "            for p in probs[i]:\n",
    "                f.write(\",%f\" % p)\n",
    "            f.write('\\n')"
   ]
  },
  {
   "cell_type": "markdown",
   "metadata": {},
   "source": []
  },
  {
   "cell_type": "code",
   "execution_count": 126,
   "metadata": {
    "collapsed": false
   },
   "outputs": [
    {
     "name": "stdout",
     "output_type": "stream",
     "text": [
      "/Users/samuco/Downloads/caffe-opencl/cs229/data/models_iter_600.caffemodel\n"
     ]
    }
   ],
   "source": [
    "kaggle_weights = data_root + \"models_iter_600.caffemodel\"\n",
    "print kaggle_weights"
   ]
  },
  {
   "cell_type": "code",
   "execution_count": null,
   "metadata": {
    "collapsed": false
   },
   "outputs": [
    {
     "name": "stdout",
     "output_type": "stream",
     "text": [
      "0 2400\n",
      "32 2400\n",
      "64 2400\n",
      "96 2400\n",
      "128 2400\n",
      "160 2400\n",
      "192 2400\n",
      "224 2400\n",
      "256 2400\n",
      "288 2400\n",
      "320 2400\n",
      "352 2400\n",
      "384 2400\n",
      "416 2400\n",
      "448 2400\n",
      "480 2400\n",
      "512 2400\n",
      "544 2400\n",
      "576 2400\n",
      "608 2400\n"
     ]
    }
   ],
   "source": [
    "\n",
    "# Compute confusion matrix for validation set\n",
    "from numpy import *\n",
    "import matplotlib.pyplot as plt\n",
    "from pylab import *\n",
    "conf_arr = []\n",
    "for i in range(10):\n",
    "    conf_arr.append([0]*10)\n",
    "\n",
    "# Compute\n",
    "batch_size = 32\n",
    "net = caffe.Net(kaggle_net(train=False), kaggle_weights, caffe.TEST)\n",
    "transformer = initialize_transformer(net)\n",
    "\n",
    "imageCount = len(validate['img'])\n",
    "in_batch_size = (imageCount/batch_size)*batch_size    \n",
    "\n",
    "for s in range(0, in_batch_size, batch_size):\n",
    "    print s, in_batch_size\n",
    "    images = list(validate['img'][s:s+batch_size])\n",
    "    labels = list(validate['classname'][s:s+batch_size])\n",
    "    preprocessed_images = preprocess_batch(images, transformer)\n",
    "    probs = process_batch(net, preprocessed_images)\n",
    "    probs[probs < 0.00001] = 0\n",
    "\n",
    "    for i in xrange(len(probs)):\n",
    "        img = images[i]\n",
    "        c = labels[i]\n",
    "        pc = np.argmax(probs[i])\n",
    "        conf_arr[int(c)][int(pc)] += 1\n",
    "del net\n",
    "\n",
    "\n",
    "# Plotting\n",
    "norm_conf = []\n",
    "for i in conf_arr:\n",
    "        a = 0\n",
    "        tmp_arr = []\n",
    "        a = sum(i,0)\n",
    "        for j in i:\n",
    "                tmp_arr.append(float(j)/float(a))\n",
    "        norm_conf.append(tmp_arr)\n",
    "\n",
    "plt.clf()\n",
    "fig = plt.figure()\n",
    "ax = fig.add_subplot(111)\n",
    "res = ax.imshow(array(norm_conf), cmap=cm.Blues, interpolation='nearest')\n",
    "ax.set_ylabel('Actual')\n",
    "ax.set_xlabel('Predicted')\n",
    "\n",
    "for i,j in ((x,y) for x in xrange(len(conf_arr))\n",
    "            for y in xrange(len(conf_arr[0]))):\n",
    "    ax.annotate(str(conf_arr[i][j]),xy=(j,i))\n",
    "\n",
    "cb = fig.colorbar(res)\n",
    "savefig(\"confusion_matrix.png\", format=\"png\")"
   ]
  },
  {
   "cell_type": "markdown",
   "metadata": {},
   "source": [
    "### extract probabilities for each class"
   ]
  },
  {
   "cell_type": "code",
   "execution_count": 84,
   "metadata": {
    "collapsed": true
   },
   "outputs": [],
   "source": [
    "def extract_probabilities(net, image_set, batch_size=32, out_file='submission.txt', display_interval=10):\n",
    "    start_time = time.time()\n",
    "    with open(data_root + out_file, \"a\") as f:\n",
    "        f.write(\"img,c0,c1,c2,c3,c4,c5,c6,c7,c8,c9\\n\")\n",
    "    \n",
    "    transformer = initialize_transformer(net)\n",
    "    in_batch_size = (len(image_set)/batch_size)*batch_size    \n",
    "    \n",
    "    for s in range(0, in_batch_size, batch_size):\n",
    "        images = image_set[s:s+batch_size]\n",
    "        preprocessed_images = preprocess_batch(images, transformer)\n",
    "        probs = process_batch(net, preprocessed_images)\n",
    "        probs[probs < 0.00001] = 0\n",
    "        write_to_file(out_file, probs, images)\n",
    "        if (s / batch_size) % display_interval == 0:\n",
    "            print \"Processed %i images in %f sec\" % (s, time.time() - start_time)\n",
    "        \n",
    "    # for some reason reshaping the image data layer causes the kernel to crash    \n",
    "    left = image_set[in_batch_size:]\n",
    "    probs = []\n",
    "    for image in left:\n",
    "        preprocessed_image = transformer.preprocess('data', caffe.io.load_image(image))\n",
    "        probs_tmp = process_image(net, preprocessed_image)\n",
    "        probs_tmp[probs_tmp < 0.00001] = 0\n",
    "        probs.append(probs_tmp)\n",
    "    write_to_file(out_file, probs, left)\n",
    "    \n",
    "    print \"Finished extracting probabilities in %f sec\" % (time.time() - start_time)"
   ]
  },
  {
   "cell_type": "code",
   "execution_count": 85,
   "metadata": {
    "collapsed": true
   },
   "outputs": [],
   "source": [
    "test_images = map(lambda name: data_root+'test/'+name, os.listdir(data_root+'test'))\n",
    "test_net = caffe.Net(kaggle_net(train=False), kaggle_weights, caffe.TEST)"
   ]
  },
  {
   "cell_type": "code",
   "execution_count": 86,
   "metadata": {
    "collapsed": false
   },
   "outputs": [
    {
     "name": "stdout",
     "output_type": "stream",
     "text": [
      "Processed 0 images in 4.437474 sec\n",
      "Processed 320 images in 48.384435 sec\n",
      "Processed 640 images in 90.883943 sec\n",
      "Processed 960 images in 133.309491 sec\n",
      "Processed 1280 images in 175.943811 sec\n",
      "Processed 1600 images in 219.275792 sec\n",
      "Processed 1920 images in 261.062080 sec\n",
      "Processed 2240 images in 303.096572 sec\n",
      "Processed 2560 images in 345.175913 sec\n",
      "Processed 2880 images in 388.623044 sec\n",
      "Processed 3200 images in 429.624369 sec\n",
      "Processed 3520 images in 470.924327 sec\n",
      "Processed 3840 images in 511.572623 sec\n",
      "Processed 4160 images in 553.318811 sec\n",
      "Processed 4480 images in 594.452190 sec\n",
      "Processed 4800 images in 637.282779 sec\n",
      "Processed 5120 images in 679.205490 sec\n",
      "Processed 5440 images in 722.130942 sec\n",
      "Processed 5760 images in 765.002050 sec\n",
      "Processed 6080 images in 807.039602 sec\n",
      "Processed 6400 images in 849.311748 sec\n",
      "Processed 6720 images in 890.985049 sec\n",
      "Processed 7040 images in 933.251757 sec\n",
      "Processed 7360 images in 975.946988 sec\n",
      "Processed 7680 images in 1017.226416 sec\n",
      "Processed 8000 images in 1058.175644 sec\n",
      "Processed 8320 images in 1100.096670 sec\n",
      "Processed 8640 images in 1142.153038 sec\n",
      "Processed 8960 images in 1184.361172 sec\n",
      "Processed 9280 images in 1226.543716 sec\n",
      "Processed 9600 images in 1268.170281 sec\n",
      "Processed 9920 images in 1309.205523 sec\n",
      "Processed 10240 images in 1347.094858 sec\n",
      "Processed 10560 images in 1384.541517 sec\n",
      "Processed 10880 images in 1421.861458 sec\n",
      "Processed 11200 images in 1458.040091 sec\n",
      "Processed 11520 images in 1495.368184 sec\n",
      "Processed 11840 images in 1532.489571 sec\n",
      "Processed 12160 images in 1569.773346 sec\n",
      "Processed 12480 images in 1607.195472 sec\n",
      "Processed 12800 images in 1643.992608 sec\n",
      "Processed 13120 images in 1680.832657 sec\n",
      "Processed 13440 images in 1718.056638 sec\n",
      "Processed 13760 images in 1755.190980 sec\n",
      "Processed 14080 images in 1792.515895 sec\n",
      "Processed 14400 images in 1829.745391 sec\n",
      "Processed 14720 images in 1866.984258 sec\n",
      "Processed 15040 images in 1904.231611 sec\n",
      "Processed 15360 images in 1941.493392 sec\n",
      "Processed 15680 images in 1978.738905 sec\n",
      "Processed 16000 images in 2015.933519 sec\n",
      "Processed 16320 images in 2053.148893 sec\n",
      "Processed 16640 images in 2090.388647 sec\n",
      "Processed 16960 images in 2127.605051 sec\n",
      "Processed 17280 images in 2164.982039 sec\n",
      "Processed 17600 images in 2202.362771 sec\n",
      "Processed 17920 images in 2239.837263 sec\n",
      "Processed 18240 images in 2276.272742 sec\n",
      "Processed 18560 images in 2313.633970 sec\n",
      "Processed 18880 images in 2350.353359 sec\n",
      "Processed 19200 images in 2387.390810 sec\n",
      "Processed 19520 images in 2424.650575 sec\n",
      "Processed 19840 images in 2461.914279 sec\n",
      "Processed 20160 images in 2499.144069 sec\n",
      "Processed 20480 images in 2536.433419 sec\n",
      "Processed 20800 images in 2573.632853 sec\n",
      "Processed 21120 images in 2610.909200 sec\n",
      "Processed 21440 images in 2648.301150 sec\n",
      "Processed 21760 images in 2685.605641 sec\n",
      "Processed 22080 images in 2723.057343 sec\n",
      "Processed 22400 images in 2760.617893 sec\n",
      "Processed 22720 images in 2798.119093 sec\n",
      "Processed 23040 images in 2835.416714 sec\n",
      "Processed 23360 images in 2872.188733 sec\n",
      "Processed 23680 images in 2909.034272 sec\n",
      "Processed 24000 images in 2946.398832 sec\n",
      "Processed 24320 images in 2983.646044 sec\n",
      "Processed 24640 images in 3020.896587 sec\n",
      "Processed 24960 images in 3058.109968 sec\n",
      "Processed 25280 images in 3095.384832 sec\n",
      "Processed 25600 images in 3132.604305 sec\n",
      "Processed 25920 images in 3169.943752 sec\n",
      "Processed 26240 images in 3207.340417 sec\n",
      "Processed 26560 images in 3244.926460 sec\n",
      "Processed 26880 images in 3281.259334 sec\n",
      "Processed 27200 images in 3318.500037 sec\n",
      "Processed 27520 images in 3355.838110 sec\n",
      "Processed 27840 images in 3393.164253 sec\n",
      "Processed 28160 images in 3430.532488 sec\n",
      "Processed 28480 images in 3467.853232 sec\n",
      "Processed 28800 images in 3504.188255 sec\n",
      "Processed 29120 images in 3541.419862 sec\n",
      "Processed 29440 images in 3578.697947 sec\n",
      "Processed 29760 images in 3616.012466 sec\n",
      "Processed 30080 images in 3653.482929 sec\n",
      "Processed 30400 images in 3690.679028 sec\n",
      "Processed 30720 images in 3728.010632 sec\n",
      "Processed 31040 images in 3765.343508 sec\n",
      "Processed 31360 images in 3802.737476 sec\n",
      "Processed 31680 images in 3840.112203 sec\n",
      "Processed 32000 images in 3877.515589 sec\n",
      "Processed 32320 images in 3915.003815 sec\n",
      "Processed 32640 images in 3952.421575 sec\n",
      "Processed 32960 images in 3989.806361 sec\n",
      "Processed 33280 images in 4027.266165 sec\n",
      "Processed 33600 images in 4064.719055 sec\n",
      "Processed 33920 images in 4101.604968 sec\n",
      "Processed 34240 images in 4138.693214 sec\n",
      "Processed 34560 images in 4175.673812 sec\n",
      "Processed 34880 images in 4212.679290 sec\n",
      "Processed 35200 images in 4250.151621 sec\n",
      "Processed 35520 images in 4287.583997 sec\n",
      "Processed 35840 images in 4324.993622 sec\n",
      "Processed 36160 images in 4362.283045 sec\n",
      "Processed 36480 images in 4399.617355 sec\n",
      "Processed 36800 images in 4436.866878 sec\n",
      "Processed 37120 images in 4474.183837 sec\n",
      "Processed 37440 images in 4511.550145 sec\n",
      "Processed 37760 images in 4548.958965 sec\n",
      "Processed 38080 images in 4586.437271 sec\n",
      "Processed 38400 images in 4623.960092 sec\n",
      "Processed 38720 images in 4661.310394 sec\n",
      "Processed 39040 images in 4698.586124 sec\n",
      "Processed 39360 images in 4734.996616 sec\n",
      "Processed 39680 images in 4772.373884 sec\n",
      "Processed 40000 images in 4809.621224 sec\n",
      "Processed 40320 images in 4846.985854 sec\n",
      "Processed 40640 images in 4884.294741 sec\n",
      "Processed 40960 images in 4921.592840 sec\n",
      "Processed 41280 images in 4958.918044 sec\n",
      "Processed 41600 images in 4996.361065 sec\n",
      "Processed 41920 images in 5033.885223 sec\n",
      "Processed 42240 images in 5071.250917 sec\n",
      "Processed 42560 images in 5107.744898 sec\n",
      "Processed 42880 images in 5145.100925 sec\n",
      "Processed 43200 images in 5182.463037 sec\n",
      "Processed 43520 images in 5219.833185 sec\n",
      "Processed 43840 images in 5257.282045 sec\n",
      "Processed 44160 images in 5294.760208 sec\n",
      "Processed 44480 images in 5331.414134 sec\n",
      "Processed 44800 images in 5368.720349 sec\n",
      "Processed 45120 images in 5406.118389 sec\n",
      "Processed 45440 images in 5443.450457 sec\n",
      "Processed 45760 images in 5480.890209 sec\n",
      "Processed 46080 images in 5518.330131 sec\n",
      "Processed 46400 images in 5555.729932 sec\n",
      "Processed 46720 images in 5593.148194 sec\n",
      "Processed 47040 images in 5630.578370 sec\n",
      "Processed 47360 images in 5667.894322 sec\n",
      "Processed 47680 images in 5705.227642 sec\n",
      "Processed 48000 images in 5742.560176 sec\n",
      "Processed 48320 images in 5780.033251 sec\n",
      "Processed 48640 images in 5817.365919 sec\n",
      "Processed 48960 images in 5854.711913 sec\n",
      "Processed 49280 images in 5892.136784 sec\n",
      "Processed 49600 images in 5929.524744 sec\n",
      "Processed 49920 images in 5966.059072 sec\n",
      "Processed 50240 images in 6002.954728 sec\n",
      "Processed 50560 images in 6039.910897 sec\n",
      "Processed 50880 images in 6077.173610 sec\n",
      "Processed 51200 images in 6114.404834 sec\n",
      "Processed 51520 images in 6156.475489 sec\n",
      "Processed 51840 images in 6197.635562 sec\n",
      "Processed 52160 images in 6239.887918 sec\n",
      "Processed 52480 images in 6283.571658 sec\n",
      "Processed 52800 images in 6325.755477 sec\n",
      "Processed 53120 images in 6367.135003 sec\n",
      "Processed 53440 images in 6409.529570 sec\n",
      "Processed 53760 images in 6450.438371 sec\n",
      "Processed 54080 images in 6491.489806 sec\n",
      "Processed 54400 images in 6532.081076 sec\n",
      "Processed 54720 images in 6573.529776 sec\n",
      "Processed 55040 images in 6615.770559 sec\n",
      "Processed 55360 images in 6657.142353 sec\n",
      "Processed 55680 images in 6698.915602 sec\n",
      "Processed 56000 images in 6740.836808 sec\n",
      "Processed 56320 images in 6783.009719 sec\n",
      "Processed 56640 images in 6825.436082 sec\n",
      "Processed 56960 images in 6866.833337 sec\n",
      "Processed 57280 images in 6908.691642 sec\n",
      "Processed 57600 images in 6950.388016 sec\n",
      "Processed 57920 images in 6992.669553 sec\n",
      "Processed 58240 images in 7034.408123 sec\n",
      "Processed 58560 images in 7077.056341 sec\n",
      "Processed 58880 images in 7118.747969 sec\n",
      "Processed 59200 images in 7160.465225 sec\n",
      "Processed 59520 images in 7200.618082 sec\n",
      "Processed 59840 images in 7240.841354 sec\n",
      "Processed 60160 images in 7283.768314 sec\n",
      "Processed 60480 images in 7325.512592 sec\n",
      "Processed 60800 images in 7364.932018 sec\n",
      "Processed 61120 images in 7406.234130 sec\n",
      "Processed 61440 images in 7447.502438 sec\n",
      "Processed 61760 images in 7489.978048 sec\n",
      "Processed 62080 images in 7532.486421 sec\n",
      "Processed 62400 images in 7574.901457 sec\n",
      "Processed 62720 images in 7617.653617 sec\n",
      "Processed 63040 images in 7659.722060 sec\n",
      "Processed 63360 images in 7702.124656 sec\n",
      "Processed 63680 images in 7744.432428 sec\n",
      "Processed 64000 images in 7785.186524 sec\n",
      "Processed 64320 images in 7827.252311 sec\n",
      "Processed 64640 images in 7868.310266 sec\n",
      "Processed 64960 images in 7909.613072 sec\n",
      "Processed 65280 images in 7950.944520 sec\n",
      "Processed 65600 images in 7992.358053 sec\n",
      "Processed 65920 images in 8035.190447 sec\n",
      "Processed 66240 images in 8076.446224 sec\n",
      "Processed 66560 images in 8117.750611 sec\n",
      "Processed 66880 images in 8160.227068 sec\n",
      "Processed 67200 images in 8202.129514 sec\n",
      "Processed 67520 images in 8244.565185 sec\n",
      "Processed 67840 images in 8286.696890 sec\n",
      "Processed 68160 images in 8330.290430 sec\n",
      "Processed 68480 images in 8372.278655 sec\n",
      "Processed 68800 images in 8413.828353 sec\n",
      "Processed 69120 images in 8456.542474 sec\n",
      "Processed 69440 images in 8499.236337 sec\n",
      "Processed 69760 images in 8543.159050 sec\n",
      "Processed 70080 images in 8586.006772 sec\n",
      "Processed 70400 images in 8628.507114 sec\n",
      "Processed 70720 images in 8671.343639 sec\n",
      "Processed 71040 images in 8713.730210 sec\n",
      "Processed 71360 images in 8754.705453 sec\n",
      "Processed 71680 images in 8796.904014 sec\n",
      "Processed 72000 images in 8839.026900 sec\n",
      "Processed 72320 images in 8881.906166 sec\n",
      "Processed 72640 images in 8924.226493 sec\n",
      "Processed 72960 images in 8966.525462 sec\n",
      "Processed 73280 images in 9008.202321 sec\n",
      "Processed 73600 images in 9051.220045 sec\n",
      "Processed 73920 images in 9094.018796 sec\n",
      "Processed 74240 images in 9136.468231 sec\n",
      "Processed 74560 images in 9178.705326 sec\n",
      "Processed 74880 images in 9221.238228 sec\n",
      "Processed 75200 images in 9264.861303 sec\n",
      "Processed 75520 images in 9306.766293 sec\n",
      "Processed 75840 images in 9348.661750 sec\n",
      "Processed 76160 images in 9389.793319 sec\n",
      "Processed 76480 images in 9432.849981 sec\n",
      "Processed 76800 images in 9474.095118 sec\n",
      "Processed 77120 images in 9515.417503 sec\n",
      "Processed 77440 images in 9557.231560 sec\n",
      "Processed 77760 images in 9599.169391 sec\n",
      "Processed 78080 images in 9642.475738 sec\n",
      "Processed 78400 images in 9683.638215 sec\n",
      "Processed 78720 images in 9725.745536 sec\n",
      "Processed 79040 images in 9767.977411 sec\n",
      "Processed 79360 images in 9810.400346 sec\n",
      "Processed 79680 images in 9853.440499 sec\n",
      "Finished extracting probabilities in 9896.241325 sec\n"
     ]
    }
   ],
   "source": [
    "extract_probabilities(test_net, test_images, out_file=(input_model + \"_out.csv\"))"
   ]
  },
  {
   "cell_type": "code",
   "execution_count": null,
   "metadata": {
    "collapsed": true
   },
   "outputs": [],
   "source": [
    "print \"Hello\""
   ]
  },
  {
   "cell_type": "code",
   "execution_count": 45,
   "metadata": {
    "collapsed": false
   },
   "outputs": [
    {
     "name": "stdout",
     "output_type": "stream",
     "text": [
      "lag\n",
      "Done\n"
     ]
    }
   ],
   "source": [
    "# Results ensemble\n",
    "\n",
    "import numpy as np\n",
    "import pandas as pd\n",
    "pd.set_option('display.float_format', lambda x: '%.6f' % x)\n",
    "\n",
    "#vgg1 = pd.read_csv('/Users/kaiqi/Desktop/vgg.csv')\n",
    "#caffenet = pd.read_csv('/Users/kaiqi/Desktop/caffenet.csv')\n",
    "#vgg2 = pd.read_csv('/Users/kaiqi/Desktop/vgg0.49.csv')\n",
    "#vgg3 = pd.read_csv('/Users/kaiqi/Desktop/vgg0.55.csv')\n",
    "#vgg4 = pd.read_csv('/Users/kaiqi/Desktop/vgg0.48.csv')\n",
    "\n",
    "allm = pd.read_csv(os.path.join(model_dir, \"ensemble\", \"allm.csv\"))\n",
    "gglnet = pd.read_csv(os.path.join(model_dir, \"ensemble\", \"googlenet500.csv\"))\n",
    "gglnet2 = pd.read_csv(os.path.join(model_dir, \"ensemble\", \"googlenet2.csv\"))\n",
    "\n",
    "# Most confident model ensemble\n",
    "TYPE_MEAN = 'mean'\n",
    "TYPE_CONFIDENT = 'confident' # Dont use this it's too slow\n",
    "ensemble = TYPE_MEAN\n",
    "\n",
    "print \"lag\"\n",
    "if ensemble == TYPE_MEAN:\n",
    "    ensemble = pd.concat((allm, gglnet2,gglnet))\n",
    "    gb = ensemble.groupby(ensemble.index)\n",
    "    mean = gb.mean()\n",
    "    mean['img'] = allm['img']\n",
    "    mean = mean[['img','c0','c1','c2','c3','c4','c5','c6','c7','c8','c9']]\n",
    "\n",
    "    mean.to_csv(os.path.join(model_dir, \"ensemble\", \"ensemble.csv\"), float_format='%.6f', sep=',', index=False)\n",
    "elif ensemble == TYPE_CONFIDENT:\n",
    "    print \"computing mean\"\n",
    "    ensemble = pd.concat((allm,gglnet))\n",
    "    gb = ensemble.groupby(ensemble.index)\n",
    "    mean = gb.mean()\n",
    "    mean['img'] = allm['img']\n",
    "    mean = mean[['img','c0','c1','c2','c3','c4','c5','c6','c7','c8','c9']]\n",
    "    print \"done\"\n",
    "    \n",
    "    ensemble = (allm, gglnet)\n",
    "    for i, img in enumerate(allm['img']):\n",
    "        classes = ['c0','c1','c2','c3','c4','c5','c6','c7','c8','c9']\n",
    "        \n",
    "        # Which class has the highest prediction?\n",
    "        ib = None\n",
    "        mb = 0\n",
    "        for network in ensemble:\n",
    "            print \"finding max for\", i\n",
    "            best = max([network[c][i] for c in classes])\n",
    "            if ib == None or best > mb:\n",
    "                print \"best value for\", i, \"is\", best\n",
    "                mb = best\n",
    "                for c in classes:\n",
    "                    mean[c][i] = network[c][i]\n",
    "    mean.to_csv(os.path.join(model_dir, \"ensemble\", \"ensemble.csv\"), float_format='%.6f', sep=',', index=False)\n",
    "print(\"Done\")"
   ]
  },
  {
   "cell_type": "code",
   "execution_count": null,
   "metadata": {
    "collapsed": true
   },
   "outputs": [],
   "source": []
  }
 ],
 "metadata": {
  "anaconda-cloud": {},
  "kernelspec": {
   "display_name": "Python [default]",
   "language": "python",
   "name": "python2"
  },
  "language_info": {
   "codemirror_mode": {
    "name": "ipython",
    "version": 2
   },
   "file_extension": ".py",
   "mimetype": "text/x-python",
   "name": "python",
   "nbconvert_exporter": "python",
   "pygments_lexer": "ipython2",
   "version": "2.7.12"
  }
 },
 "nbformat": 4,
 "nbformat_minor": 0
}
